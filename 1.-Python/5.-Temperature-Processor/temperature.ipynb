{
 "cells": [
  {
   "cell_type": "markdown",
   "metadata": {},
   "source": [
    "<img src=\"https://bit.ly/2VnXWr2\" width=\"100\" align=\"left\">"
   ]
  },
  {
   "cell_type": "markdown",
   "metadata": {},
   "source": [
    "# Temperature Sensor\n",
    "\n",
    "There is a temperature sensor in the processor of your company's server. The company wants to analyze the data provided by the sensor to decide if they should change the cooling system for a better one. As changing the cooling system is expensive and you are an excellent data analyst, you can't make a decision without basis.\n",
    "\n",
    "## Tools\n",
    "You don't necessarily need to use all the tools. Maybe you opt to use some of them or completely different ones, they are given to help you shape the exercise. Programming exercises can be solved in many different ways.\n",
    "1. Data structures: **lists**\n",
    "2. Loops: **list comprehension**\n",
    "3. Functions: **min, max, print, len**\n",
    "4. Conditional statements: **if-elif-else**\n",
    "\n",
    "## Tasks\n",
    "The temperatures measured throughout the 24 hours of a day are:"
   ]
  },
  {
   "cell_type": "code",
   "execution_count": 1,
   "metadata": {},
   "outputs": [],
   "source": [
    "temperatures_C = [33, 66, 65, 0, 59, 60, 62, 64, 70, 76, 80, 81, 80, 83, 90, 79, 61, 53, 50, 49, 53, 48, 45, 39]"
   ]
  },
  {
   "cell_type": "markdown",
   "metadata": {},
   "source": [
    "The first element of the list is the temperature at 12am, the second element is the temperature at 1am, and so on. \n",
    "\n",
    "The company has decided that if one of the following events occurs, then the cooling system needs to be replaced for a new one to avoid damaging the processor.\n",
    "* More than 4 temperatures are greater than or equal to 70ºC.\n",
    "* Any temperature is above 80ºC.\n",
    "* The average temperature exceeds 65ºC.\n",
    "\n",
    "Follow the steps so that you can make the decision.\n",
    "\n",
    "#### 1. Find the minimum temperature of the day and store it in a variable."
   ]
  },
  {
   "cell_type": "code",
   "execution_count": 2,
   "metadata": {},
   "outputs": [],
   "source": [
    "min_temp = min(temperatures_C)"
   ]
  },
  {
   "cell_type": "markdown",
   "metadata": {},
   "source": [
    "#### 2. Find the maximum temperature of the day and store it in a variable."
   ]
  },
  {
   "cell_type": "code",
   "execution_count": 3,
   "metadata": {},
   "outputs": [],
   "source": [
    "max_temp = max(temperatures_C)"
   ]
  },
  {
   "cell_type": "markdown",
   "metadata": {},
   "source": [
    "#### 3. Create a list with the temperatures that are greater than or equal to 70ºC. Store it in a variable."
   ]
  },
  {
   "cell_type": "code",
   "execution_count": 6,
   "metadata": {},
   "outputs": [
    {
     "name": "stdout",
     "output_type": "stream",
     "text": [
      "[70, 76, 80, 81, 80, 83, 90, 79]\n"
     ]
    }
   ],
   "source": [
    "greater_seventy = [i for i in temperatures_C if i >= 70]\n",
    "print(greater_seventy)"
   ]
  },
  {
   "cell_type": "markdown",
   "metadata": {},
   "source": [
    "#### 4. Find the average temperature of the day and store it in a variable."
   ]
  },
  {
   "cell_type": "code",
   "execution_count": 8,
   "metadata": {},
   "outputs": [
    {
     "name": "stdout",
     "output_type": "stream",
     "text": [
      "79.875\n"
     ]
    }
   ],
   "source": [
    "average_daily_temp = sum(greater_seventy)/len(greater_seventy)\n",
    "print(average_daily_temp)"
   ]
  },
  {
   "cell_type": "markdown",
   "metadata": {},
   "source": [
    "#### 5. Imagine that there was a sensor failure at 3am and the data for that specific hour was not recorded. How would you estimate the missing value? Replace the current value of the list at 3am for an estimation. "
   ]
  },
  {
   "cell_type": "code",
   "execution_count": 10,
   "metadata": {},
   "outputs": [
    {
     "name": "stdout",
     "output_type": "stream",
     "text": [
      "19.700474503223873\n"
     ]
    }
   ],
   "source": [
    "temperatures_C[3] = average_daily_temp"
   ]
  },
  {
   "cell_type": "markdown",
   "metadata": {},
   "source": [
    "#### 6. Bonus: the maintenance staff is from the United States and does not understand the international metric system. Help them by converting the temperatures from Celsius to Fahrenheit.\n",
    "To know more about temperature conversion check this [link](https://en.wikipedia.org/wiki/Conversion_of_units_of_temperature).\n",
    "\n",
    "**Formula**: \n",
    "\n",
    "$F = 1.8 * C + 32$"
   ]
  },
  {
   "cell_type": "code",
   "execution_count": 15,
   "metadata": {},
   "outputs": [
    {
     "name": "stdout",
     "output_type": "stream",
     "text": [
      "[91.4, 150.8, 149.0, 32.0, 138.2, 140.0, 143.60000000000002, 147.2, 158.0, 168.8, 176.0, 177.8, 176.0, 181.4, 194.0, 174.20000000000002, 141.8, 127.4, 122.0, 120.2, 127.4, 118.4, 113.0, 102.2]\n"
     ]
    }
   ],
   "source": [
    "converted_temps =[]\n",
    "for i in temperatures_C:\n",
    "    converted_temps.append((1.8 * i) + 32)\n",
    "    \n",
    "print(converted_temps)"
   ]
  },
  {
   "cell_type": "markdown",
   "metadata": {},
   "source": [
    "#### 7. Make a decision!\n",
    "Now it's time to make a decision taking into account what you have seen until now. \n",
    "\n",
    "Remember that if one of the following events occurs, then the cooling system needs to be replaced for a new one to avoid damaging the processor.\n",
    "* More than 4 temperatures are greater than or equal to 70ºC.\n",
    "* Any temperature is above 80ºC.\n",
    "* The average temperature exceeds 65ºC.\n",
    "\n",
    "#### To make your decision, check if any of the three conditions above is met. You might need to use some of the variables you created in steps 1 to 6. Print a message to show if the cooling system needs to be changed or not."
   ]
  },
  {
   "cell_type": "code",
   "execution_count": 25,
   "metadata": {},
   "outputs": [
    {
     "name": "stdout",
     "output_type": "stream",
     "text": [
      "Cooling needs to be changed because: \n",
      "- more than 4 temps reached 70ºC\n",
      "- reached a temp of 80ºC\n",
      "- average temp is superior to 65ºC\n"
     ]
    }
   ],
   "source": [
    "change_needed = False\n",
    "reasons_change = [\"Cooling needs to be changed because: \"]\n",
    "\n",
    "\n",
    "if len(greater_seventy) > 4:\n",
    "    reasons_change.append(\"- more than 4 temps reached 70ºC\")\n",
    "    change_needed = True\n",
    "    \n",
    "temp_eighty = [i for i in temperatures_C if i >= 80]\n",
    "\n",
    "if len(temp_eighty) > 0:\n",
    "    reasons_change.append(\"- reached a temp of 80ºC\")\n",
    "    change_needed = True\n",
    "\n",
    "if average_daily_temp > 65:\n",
    "    reasons_change.append(\"- average temp is superior to 65ºC\")\n",
    "    change_needed = True\n",
    "\n",
    "if change_needed == False:\n",
    "    print(\"- No need to change the cooling system\")\n",
    "else:\n",
    "    for i in reasons_change:\n",
    "        print(i)\n",
    "        \n"
   ]
  },
  {
   "cell_type": "markdown",
   "metadata": {},
   "source": [
    "## Bonus\n",
    "\n",
    "The company has decided that the decision you made is not valid. They want you to analyze the data again but this time, the conditions that need to be met in order to change the cooling system are different.\n",
    "\n",
    "This time, if one of the following events occurs, then the cooling system needs to be replaced:\n",
    "* The temperature is greater than 70ºC during more than 4 consecutive hours.\n",
    "* Any temperature is above 80ºC.\n",
    "* The average temperature exceeds 65ºC.\n",
    "\n",
    "Follow the steps so that you can make the decision.\n",
    "\n",
    "#### 1. Create a list with the hours where the temperature is greater than 70ºC. Store it in a variable."
   ]
  },
  {
   "cell_type": "code",
   "execution_count": 27,
   "metadata": {},
   "outputs": [
    {
     "name": "stdout",
     "output_type": "stream",
     "text": [
      "[9, 10, 11, 12, 13, 14, 15]\n"
     ]
    }
   ],
   "source": [
    "hours_temp_70 = []\n",
    "clock = 0\n",
    "\n",
    "for i in temperatures_C:\n",
    "    if i > 70:\n",
    "        hours_temp_70.append(clock)\n",
    "    clock += 1\n",
    "\n",
    "print(hours_temp_70)"
   ]
  },
  {
   "cell_type": "markdown",
   "metadata": {},
   "source": [
    "#### 2. Check if the list you created in step 1 has more than 4 consecutive hours. "
   ]
  },
  {
   "cell_type": "code",
   "execution_count": 33,
   "metadata": {},
   "outputs": [
    {
     "name": "stdout",
     "output_type": "stream",
     "text": [
      "the system was operating at 70ºC or more, during at least 4 hours straight\n"
     ]
    }
   ],
   "source": [
    "consecutive = 0\n",
    "\n",
    "for i in hours_temp_70:\n",
    "    if i > i - 1:\n",
    "        consecutive += 1\n",
    "        if consecutive == 4:\n",
    "            print(\"the system was operating at 70ºC or more, during at least 4 hours straight\")\n",
    "            break\n",
    "    else:\n",
    "        consecutive = 0\n",
    "        \n",
    "if consecutive < 4:\n",
    "    print(\"the system was operating less than 4 hours straight at 70ºC\")"
   ]
  },
  {
   "cell_type": "markdown",
   "metadata": {},
   "source": [
    "#### 3. Make the decision!\n",
    "To make your decision, check if any of the three conditions is met. Print a message to show if the cooling system needs to be changed or not."
   ]
  },
  {
   "cell_type": "code",
   "execution_count": 34,
   "metadata": {},
   "outputs": [
    {
     "name": "stdout",
     "output_type": "stream",
     "text": [
      "Cooling needs to be changed because: \n",
      "- the system was operating at 70ºC or more, during at least 4 hours straight\n",
      "- reached a temp of 80ºC\n",
      "- average temp is superior to 65ºC\n"
     ]
    }
   ],
   "source": [
    "change_needed = False\n",
    "reasons_change = [\"Cooling needs to be changed because: \"]\n",
    "consecutive = 0\n",
    "\n",
    "for i in hours_temp_70:\n",
    "    if i > i - 1:\n",
    "        consecutive += 1\n",
    "        if consecutive == 4:\n",
    "            change_needed = True\n",
    "            reasons_change.append(\"- the system was operating at 70ºC or more, during at least 4 hours straight\")\n",
    "            break\n",
    "    else:\n",
    "        consecutive = 0\n",
    "    \n",
    "temp_eighty = [i for i in temperatures_C if i >= 80]\n",
    "\n",
    "if len(temp_eighty) > 0:\n",
    "    reasons_change.append(\"- reached a temp of 80ºC\")\n",
    "    change_needed = True\n",
    "\n",
    "if average_daily_temp > 65:\n",
    "    reasons_change.append(\"- average temp is superior to 65ºC\")\n",
    "    change_needed = True\n",
    "\n",
    "if change_needed == False:\n",
    "    print(\"- No need to change the cooling system\")\n",
    "else:\n",
    "    for i in reasons_change:\n",
    "        print(i)"
   ]
  },
  {
   "cell_type": "markdown",
   "metadata": {},
   "source": [
    "#### 4. Find the average value of the temperature lists (ºC and ºF). What is the relation between both average values?"
   ]
  },
  {
   "cell_type": "code",
   "execution_count": 40,
   "metadata": {},
   "outputs": [
    {
     "name": "stdout",
     "output_type": "stream",
     "text": [
      "79.875\n",
      "140.45\n"
     ]
    }
   ],
   "source": [
    "average_converted_temp = sum(converted_temps)/len(converted_temps)\n",
    "\n",
    "print(average_daily_temp)\n",
    "print(average_converted_temp)"
   ]
  },
  {
   "cell_type": "markdown",
   "metadata": {},
   "source": [
    "#### 5. Find the standard deviation of the temperature lists (ºC and ºF). What is the relation between both standard deviations?"
   ]
  },
  {
   "cell_type": "code",
   "execution_count": 42,
   "metadata": {},
   "outputs": [
    {
     "name": "stdout",
     "output_type": "stream",
     "text": [
      "19.700474503223873\n",
      "35.46085410580297\n"
     ]
    }
   ],
   "source": [
    "print(statistics.stdev(temperatures_C))\n",
    "print(statistics.stdev(converted_temps))"
   ]
  },
  {
   "cell_type": "code",
   "execution_count": null,
   "metadata": {},
   "outputs": [],
   "source": []
  }
 ],
 "metadata": {
  "kernelspec": {
   "display_name": "Python 3 (ipykernel)",
   "language": "python",
   "name": "python3"
  },
  "language_info": {
   "codemirror_mode": {
    "name": "ipython",
    "version": 3
   },
   "file_extension": ".py",
   "mimetype": "text/x-python",
   "name": "python",
   "nbconvert_exporter": "python",
   "pygments_lexer": "ipython3",
   "version": "3.9.6"
  }
 },
 "nbformat": 4,
 "nbformat_minor": 2
}
