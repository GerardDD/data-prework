{
 "cells": [
  {
   "cell_type": "markdown",
   "metadata": {},
   "source": [
    "<img src=\"https://bit.ly/2VnXWr2\" width=\"100\" align=\"left\">"
   ]
  },
  {
   "cell_type": "markdown",
   "metadata": {},
   "source": [
    "# Rock, Paper & Scissors\n",
    "\n",
    "Let's play the famous game against our computer. You can check the rules [here](https://en.wikipedia.org/wiki/Rock%E2%80%93paper%E2%80%93scissors). \n",
    "\n",
    "## Task\n",
    "Create a program that imitates the playability of the well known game of rock, paper, scissors. Follow the guidelines provided.\n",
    "\n",
    "## Tools\n",
    "1. Loop: **for/while**\n",
    "2. Functions: **input(), print()...**\n",
    "3. Conditional statements: **if, elif, else**\n",
    "4. Definition of functions. Modular programming\n",
    "5. Import modules\n",
    "\n",
    "**To solve this challenge, the use of functions is recommended.**\n",
    "\n",
    "#### 1. Import the choice function of the random module."
   ]
  },
  {
   "cell_type": "code",
   "execution_count": 2,
   "metadata": {},
   "outputs": [],
   "source": [
    "import random\n"
   ]
  },
  {
   "cell_type": "markdown",
   "metadata": {},
   "source": [
    "#### 2. Create a list that includes the 3 possible gesture options of the game: 'rock', 'paper' or 'scissors'. Store the list in a variable called `gestures`."
   ]
  },
  {
   "cell_type": "code",
   "execution_count": 3,
   "metadata": {},
   "outputs": [],
   "source": [
    "gestures = ['rock','paper','scissors']"
   ]
  },
  {
   "cell_type": "markdown",
   "metadata": {},
   "source": [
    "#### 3. Create a variable called `n_rounds` to store the maximum number of rounds to play in a game. \n",
    "Remember that the number of rounds must be odd: 1, 3, 5, ..."
   ]
  },
  {
   "cell_type": "code",
   "execution_count": 4,
   "metadata": {},
   "outputs": [],
   "source": [
    "n_rounds = 0"
   ]
  },
  {
   "cell_type": "markdown",
   "metadata": {},
   "source": [
    "#### 4. Create a variable called `rounds_to_win` to store the number of rounds that a player must win to win the game.\n",
    "**Hint**: the value stored in `rounds_to_win` depends on the value of `n_rounds`. "
   ]
  },
  {
   "cell_type": "code",
   "execution_count": 5,
   "metadata": {},
   "outputs": [],
   "source": [
    "rounds_to_win = 0"
   ]
  },
  {
   "cell_type": "markdown",
   "metadata": {},
   "source": [
    "#### 5. Create two variables to store the number of rounds that the computer and the player have won. Call these variables `cpu_score` and `player_score`."
   ]
  },
  {
   "cell_type": "code",
   "execution_count": 6,
   "metadata": {},
   "outputs": [],
   "source": [
    "cpu_score = 0\n",
    "player_score = 0"
   ]
  },
  {
   "cell_type": "markdown",
   "metadata": {},
   "source": [
    "#### 6. Define a function that randomly returns one of the 3 gesture options.\n",
    "You will use this function to simulate the gesture choice of the computer. "
   ]
  },
  {
   "cell_type": "code",
   "execution_count": 7,
   "metadata": {},
   "outputs": [],
   "source": [
    "def cpu_gest():\n",
    "    return random.choice(gestures)"
   ]
  },
  {
   "cell_type": "markdown",
   "metadata": {},
   "source": [
    "#### 7. Define a function that asks the player which is the gesture he or she wants to show: 'rock', 'paper' or 'scissors'.\n",
    "The player should only be allowed to choose one of the 3 gesture options. If the player's choice is not rock, paper or scissors, keep asking until it is."
   ]
  },
  {
   "cell_type": "code",
   "execution_count": 8,
   "metadata": {},
   "outputs": [],
   "source": [
    "def pick_gest():\n",
    "    \n",
    "    player_choice = \"empty\"\n",
    "    \n",
    "    while (player_choice != \"rock\") & (player_choice != \"paper\") & (player_choice != \"scissors\") :\n",
    "        player_choice = input(\"pick a valid value: rock , paper, scissors\")\n",
    "        \n",
    "    return player_choice"
   ]
  },
  {
   "cell_type": "markdown",
   "metadata": {},
   "source": [
    "#### 8. Define a function that checks who won a round. \n",
    "The function should return 0 if there is a tie, 1 if the computer wins and 2 if the player wins."
   ]
  },
  {
   "cell_type": "code",
   "execution_count": 9,
   "metadata": {},
   "outputs": [],
   "source": [
    "def win_check(player_pick, cpu_pick):\n",
    "    if player_pick == cpu_pick:\n",
    "        return 0\n",
    "    elif ((player_pick == \"rock\") & (cpu_pick == \"scissors\")) | ((player_pick == \"scissors\") & (cpu_pick == \"paper\")) | ((player_pick == \"paper\") & (cpu_pick == \"rock\")):\n",
    "        return 2\n",
    "    else:\n",
    "        return 1\n",
    "    "
   ]
  },
  {
   "cell_type": "markdown",
   "metadata": {},
   "source": [
    "#### 9. Define a function that prints the choice of the computer, the choice of the player and a message that announces who won the current round. \n",
    "You should also use this function to update the variables that count the number of rounds that the computer and the player have won. The score of the winner increases by one point. If there is a tie, the score does not increase."
   ]
  },
  {
   "cell_type": "code",
   "execution_count": 10,
   "metadata": {},
   "outputs": [],
   "source": [
    "def picked_choices(player_pick,cpu_pick):\n",
    "    \n",
    "    print(\"the player picked : \", player_pick)\n",
    "    print(\"the cpu picked : \", cpu_pick)\n",
    "    \n",
    "    result = win_check(player_pick, cpu_pick)\n",
    "    \n",
    "    if result == 1:\n",
    "        global cpu_score\n",
    "        cpu_score = cpu_score + 1\n",
    "        print(\"cpu wins the round\")\n",
    "    elif result == 2:\n",
    "        global player_score\n",
    "        player_score = player_score + 1\n",
    "        print(\"player wins the round\")\n",
    "    else:\n",
    "        print(\"it's a tie!\")"
   ]
  },
  {
   "cell_type": "markdown",
   "metadata": {},
   "source": [
    "#### 10. Now it's time to code the execution of the game using the functions and variables you defined above. \n",
    "\n",
    "First, create a loop structure that repeats while no player reaches the minimum score necessary to win and the number of rounds is less than the maximum number of rounds to play in a game.  \n",
    "\n",
    "Inside the loop, use the functions and variables above to create the execution of a round: ask for the player's choice, generate the random choice of the computer, show the round results, update the scores, etc. "
   ]
  },
  {
   "cell_type": "code",
   "execution_count": 11,
   "metadata": {},
   "outputs": [
    {
     "name": "stdout",
     "output_type": "stream",
     "text": [
      "pick the number of rounds that must be played (must be and odd number) 4\n",
      "number of rounds rounded up to  5\n",
      "pick a valid value: rock , paper, scissorsrock\n",
      "the player picked :  rock\n",
      "the cpu picked :  rock\n",
      "it's a tie!\n",
      "pick a valid value: rock , paper, scissorsrock\n",
      "the player picked :  rock\n",
      "the cpu picked :  rock\n",
      "it's a tie!\n",
      "pick a valid value: rock , paper, scissorsrock\n",
      "the player picked :  rock\n",
      "the cpu picked :  rock\n",
      "it's a tie!\n",
      "pick a valid value: rock , paper, scissorsrock\n",
      "the player picked :  rock\n",
      "the cpu picked :  rock\n",
      "it's a tie!\n",
      "pick a valid value: rock , paper, scissorsrock\n",
      "the player picked :  rock\n",
      "the cpu picked :  scissors\n",
      "player wins the round\n",
      "pick a valid value: rock , paper, scissorsrock\n",
      "the player picked :  rock\n",
      "the cpu picked :  rock\n",
      "it's a tie!\n",
      "pick a valid value: rock , paper, scissorsrock\n",
      "the player picked :  rock\n",
      "the cpu picked :  paper\n",
      "cpu wins the round\n",
      "pick a valid value: rock , paper, scissorsrock\n",
      "the player picked :  rock\n",
      "the cpu picked :  paper\n",
      "cpu wins the round\n",
      "pick a valid value: rock , paper, scissorsrock\n",
      "the player picked :  rock\n",
      "the cpu picked :  scissors\n",
      "player wins the round\n",
      "pick a valid value: rock , paper, scissorsrock\n",
      "the player picked :  rock\n",
      "the cpu picked :  paper\n",
      "cpu wins the round\n"
     ]
    }
   ],
   "source": [
    "# reset the rounds count and scores variable\n",
    "n_rounds = 0\n",
    "cpu_score = 0\n",
    "player_score = 0\n",
    "\n",
    "while n_rounds == 0:\n",
    "    n_rounds = int(input(\"pick the number of rounds that must be played (must be and odd number) \"))\n",
    "\n",
    "if n_rounds%2 == 0:\n",
    "    n_rounds += 1\n",
    "    print(\"number of rounds rounded up to \", n_rounds)\n",
    "\n",
    "rounds_to_win = n_rounds/2 + 0.5\n",
    "\n",
    "while (cpu_score < rounds_to_win) & (player_score < rounds_to_win):\n",
    "    player_choice =  pick_gest()\n",
    "    cpu_choice = cpu_gest()\n",
    "    picked_choices(player_choice,cpu_choice)\n",
    "\n"
   ]
  },
  {
   "cell_type": "raw",
   "metadata": {},
   "source": [
    "#### 11. Print the winner of the game based on who won more rounds.\n",
    "Remember that the game might be tied. "
   ]
  },
  {
   "cell_type": "code",
   "execution_count": 12,
   "metadata": {},
   "outputs": [
    {
     "name": "stdout",
     "output_type": "stream",
     "text": [
      "CPU wins the match with a score of:  3\n"
     ]
    }
   ],
   "source": [
    "if cpu_score > player_score:\n",
    "    print(\"CPU wins the match with a score of: \", cpu_score)\n",
    "elif cpu_score < player_score:\n",
    "    print(\"The player wins the match with a score of \", player_score)\n",
    "else:\n",
    "    print(\"The match ended in a Tie\")"
   ]
  },
  {
   "cell_type": "markdown",
   "metadata": {},
   "source": [
    "# Bonus: Rock, Paper, Scissors, Lizard & Spock\n",
    "![](images/rpsls.jpg)\n",
    "\n",
    "In this challenge, you need to improve the previous game by adding two new options. To know more about the rules of the improved version of rock, paper, scissors, check this [link](http://www.samkass.com/theories/RPSSL.html). \n",
    "\n",
    "In addition, you will also need to improve how the game interacts with the player: the number of rounds to play, which must be an odd number, will be requested to the user until a valid number is entered. Define a new function to make that request.\n",
    "\n",
    "**Hint**: Try to reuse the code that you already coded in the previous challenge. If your code is efficient, this bonus will only consist of simple modifications to the original game."
   ]
  },
  {
   "cell_type": "code",
   "execution_count": 13,
   "metadata": {},
   "outputs": [
    {
     "name": "stdout",
     "output_type": "stream",
     "text": [
      "pick the number of rounds that must be played (must be and odd number) 1\n",
      "pick a valid value: rock , paper, scissors, spock, lizardspock\n",
      "the player picked :  spock\n",
      "the cpu picked :  paper\n",
      "cpu wins the round\n",
      "CPU wins the match with a score of:  1\n"
     ]
    }
   ],
   "source": [
    "gestures = ['rock','paper','scissors','spock','lizard']\n",
    "winning_player_tuples = [('rock','scissors'),('rock','lizard'),('scissors','paper'),('scissors','lizard'),('paper','rock'),\n",
    "                        ('paper','spock'),('lizard','paper'),('lizard','spock'),('spock','rock'),('spock','scissors')]\n",
    "\n",
    "#improved version of pick_gest\n",
    "def pick_gest_2():\n",
    "    \n",
    "    player_choice = \"\"\n",
    "    \n",
    "    while player_choice not in gestures:\n",
    "        player_choice = input(\"pick a valid value: rock , paper, scissors, spock, lizard\")\n",
    "        \n",
    "    return player_choice\n",
    "\n",
    "#improved version of win_check\n",
    "def win_check_2(player_pick, cpu_pick):\n",
    "    players_tuple = (player_pick,cpu_pick)\n",
    "    if player_pick == cpu_pick:\n",
    "        return 0\n",
    "    \n",
    "    for i in winning_player_tuples:\n",
    "        if i == players_tuple:\n",
    "            return 2\n",
    "    return 1\n",
    "\n",
    "# copy of picked_choices\n",
    "\n",
    "def picked_choices_2(player_pick,cpu_pick):\n",
    "    \n",
    "    print(\"the player picked : \", player_pick)\n",
    "    print(\"the cpu picked : \", cpu_pick)\n",
    "    \n",
    "    result = win_check_2(player_pick, cpu_pick)\n",
    "    \n",
    "    if result == 1:\n",
    "        global cpu_score\n",
    "        cpu_score = cpu_score + 1\n",
    "        print(\"cpu wins the round\")\n",
    "    elif result == 2:\n",
    "        global player_score\n",
    "        player_score = player_score + 1\n",
    "        print(\"player wins the round\")\n",
    "    else:\n",
    "        print(\"it's a tie!\")\n",
    "\n",
    "        \n",
    "        \n",
    "# reset the rounds count and scores variable\n",
    "n_rounds = 0\n",
    "cpu_score = 0\n",
    "player_score = 0\n",
    "\n",
    "# improved the n_rounds question\n",
    "while ((n_rounds == 0) | (n_rounds%2 == 0)):\n",
    "    n_rounds = int(input(\"pick the number of rounds that must be played (must be and odd number) \"))\n",
    "\n",
    "rounds_to_win = n_rounds/2 + 0.5\n",
    "\n",
    "while (cpu_score < rounds_to_win) & (player_score < rounds_to_win):\n",
    "    player_choice =  pick_gest_2()\n",
    "    cpu_choice = cpu_gest()\n",
    "    picked_choices_2(player_choice,cpu_choice)\n",
    "\n",
    "if cpu_score > player_score:\n",
    "    print(\"CPU wins the match with a score of: \", cpu_score)\n",
    "elif cpu_score < player_score:\n",
    "    print(\"The player wins the match with a score of \", player_score)\n",
    "else:\n",
    "    print(\"The match ended in a Tie\")"
   ]
  },
  {
   "cell_type": "code",
   "execution_count": null,
   "metadata": {},
   "outputs": [],
   "source": []
  }
 ],
 "metadata": {
  "kernelspec": {
   "display_name": "Python 3 (ipykernel)",
   "language": "python",
   "name": "python3"
  },
  "language_info": {
   "codemirror_mode": {
    "name": "ipython",
    "version": 3
   },
   "file_extension": ".py",
   "mimetype": "text/x-python",
   "name": "python",
   "nbconvert_exporter": "python",
   "pygments_lexer": "ipython3",
   "version": "3.9.6"
  }
 },
 "nbformat": 4,
 "nbformat_minor": 2
}
